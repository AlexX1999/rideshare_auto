{
 "cells": [
  {
   "cell_type": "code",
   "execution_count": null,
   "metadata": {},
   "outputs": [],
   "source": [
    "#api端口查找路线\n",
    "#但貌似是步行路线？？？有用的只有 instruction 和 action 里的信息\n",
    "\n",
    "import requests\n",
    "import json\n",
    "\n",
    "def get_location_x_y(place):\n",
    "    \n",
    "    url = 'https://restapi.amap.com/v3/geocode/geo?parameters'\n",
    "    parameters = {\n",
    "        'key':'7b1694e4e39645fe00c2ff3e2737b780', \n",
    "        'address':'%s' % place\n",
    "    }\n",
    "    \n",
    "    page_resource = requests.get(url,params=parameters)\n",
    "    text = page_resource.text       #获得数据是json格式\n",
    "    data = json.loads(text)         #把数据变成字典格式\n",
    "    location = data[\"geocodes\"][0]['location']\n",
    "    return location\n",
    "\n",
    "def route_planning():\n",
    "    from_place = input(\"请输入起始地址\")\n",
    "    from_location = get_location_x_y(from_place)\n",
    "\n",
    "    to_place = input(\"请输入目的地\")\n",
    "    to_location = get_location_x_y(to_place)\n",
    "\n",
    "    url = 'https://restapi.amap.com/v3/direction/walking?parameters'\n",
    "    parameters = {\n",
    "        'key': '5b075bd243a18155fbc164db0c3e426b',\n",
    "        'origin': str(from_location),\n",
    "        'destination': str(to_location)\n",
    "    }\n",
    "\n",
    "    response = requests.get(url, parameters)\n",
    "    txt = response.text\n",
    "    print(txt)\n",
    "\n",
    "if __name__ == '__main__':\n",
    "    route_planning()\n",
    "    \n"
   ]
  }
 ],
 "metadata": {
  "language_info": {
   "name": "python"
  },
  "orig_nbformat": 4
 },
 "nbformat": 4,
 "nbformat_minor": 2
}
