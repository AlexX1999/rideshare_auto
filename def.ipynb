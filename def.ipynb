{
 "cells": [
  {
   "cell_type": "code",
   "execution_count": 124,
   "metadata": {},
   "outputs": [
    {
     "name": "stdout",
     "output_type": "stream",
     "text": [
      "上海市闵行区莘庄镇中共闵行区纪律检查委员会上海市闵行区人民政府\n",
      "上海市闵行区莘庄镇莘北路185号闵行区融媒体中心\n",
      "上海市闵行区莘庄镇新家园西湖苑小区西湖苑\n",
      "上海市松江区九亭镇姚北路33号上海春申驾校(分校)\n",
      "上海市松江区九亭镇文浦路\n",
      "上海市松江区九亭镇朱金路九科绿洲公园东区\n",
      "上海市松江区九亭镇易富路\n",
      "上海市松江区九亭镇世富路\n",
      "上海市松江区九亭镇G15沈海高速\n",
      "上海市松江区泗泾镇丽水豪庭75号楼\n",
      "上海市松江区泗泾镇Aurora lnternational Testing Laboratory\n",
      "上海市松江区泗泾镇江川一村\n",
      "上海市松江区泗泾镇泗凤公路\n",
      "上海市松江区泗泾镇金地玺华村\n",
      "上海市松江区泗泾镇泗凯路新凯城紫荆苑\n",
      "上海市松江区泗泾镇泗陈公路新凯城香樟苑\n",
      "上海市松江区佘山镇泗陈公路\n",
      "上海市松江区佘山镇泗陈公路佘山高尔夫俱乐部\n",
      "上海市松江区佘山镇佘山3号293号楼\n",
      "上海市松江区佘山镇陶干路288号\n"
     ]
    }
   ],
   "source": [
    "import requests\n",
    "class GaodeGeo:\n",
    "    def __init__(self):\n",
    "        self.key = '7b1694e4e39645fe00c2ff3e2737b780'\n",
    "\n",
    "    def requestApi(self, url):\n",
    "        re = requests.get(url).json()\n",
    "        return re\n",
    "\n",
    "    # 根据经纬坐标获取地址等信息\n",
    "    def getInverseGeoCode(self, location):\n",
    "        url = f'https://restapi.amap.com/v3/geocode/regeo?parameters&key={self.key}&location={location}'\n",
    "        json_data = self.requestApi(url)\n",
    "        if json_data['status'] == '1':\n",
    "            area= json_data['regeocode']['formatted_address']\n",
    "            return area\n",
    "        else:\n",
    "            return '获取失败'\n",
    "\n",
    "\n",
    "\n",
    "# 例子\n",
    "gd = GaodeGeo()\n",
    "a=121.3817\n",
    "b=31.1128\n",
    "m=1\n",
    "for i in range (20):\n",
    "    string=[str(a),str(b)]\n",
    "    place=','.join(string)\n",
    "    area = gd.getInverseGeoCode(place)\n",
    "    print(area)     #精度约10m\n",
    "\n",
    "#具体怎么生成可规定，简单举例\n",
    "    a-= 0.01"
   ]
  }
 ],
 "metadata": {
  "kernelspec": {
   "display_name": "Python 3",
   "language": "python",
   "name": "python3"
  },
  "language_info": {
   "codemirror_mode": {
    "name": "ipython",
    "version": 3
   },
   "file_extension": ".py",
   "mimetype": "text/x-python",
   "name": "python",
   "nbconvert_exporter": "python",
   "pygments_lexer": "ipython3",
   "version": "3.11.2"
  },
  "orig_nbformat": 4
 },
 "nbformat": 4,
 "nbformat_minor": 2
}
