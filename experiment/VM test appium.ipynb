{
 "cells": [
  {
   "cell_type": "code",
   "execution_count": 1,
   "metadata": {},
   "outputs": [],
   "source": [
    "\n",
    "import time\n",
    "import pyautogui\n",
    "from appium import webdriver\n",
    "from appium.webdriver.common.appiumby import AppiumBy\n",
    "from appium.webdriver.extensions.android.nativekey import AndroidKey\n",
    "from appium.webdriver.common.touch_action import TouchAction\n",
    "\n",
    "# For W3C actions\n",
    "from selenium.webdriver.common.action_chains import ActionChains\n",
    "from selenium.webdriver.common.actions import interaction\n",
    "from selenium.webdriver.common.actions.action_builder import ActionBuilder\n",
    "from selenium.webdriver.common.actions.pointer_input import PointerInput\n",
    "\n"
   ]
  },
  {
   "cell_type": "code",
   "execution_count": 2,
   "metadata": {},
   "outputs": [
    {
     "name": "stdout",
     "output_type": "stream",
     "text": [
      "be connected successfully\n"
     ]
    }
   ],
   "source": [
    "\n",
    "desired_caps= {\n",
    "    \"deviceName\" :\"LENOVO L79031\" ,\n",
    "    \"platformName\" :  \"Android\",\n",
    "    \"platformVersion\" : \"7.1.2\",\n",
    "    \"appPackage\" : \"com.autonavi.minimap\",\n",
    "    \"appActivity\" : \"com.autonavi.map.activity.NewMapActivity\",\n",
    "    \"noReset\" : True,\n",
    "    \"unicodKeyboard\" : True,\n",
    "    \"ensureWebviewsHavePages\" : True,\n",
    "    \"newCommandTimeout\" : 6000\n",
    " }\n",
    "\n",
    "driver = webdriver.Remote(\"http://127.0.0.1:4723/wd/hub\", desired_caps)\n",
    "actions = ActionChains(driver)\n",
    "print(\"be connected successfully\")\n"
   ]
  },
  {
   "cell_type": "code",
   "execution_count": null,
   "metadata": {},
   "outputs": [],
   "source": [
    "\n",
    "time.sleep(5)\n",
    "driver.implicitly_wait(20)\n",
    "#重启应用\n",
    "button_id = 'android:id/aerr_restart'\n",
    "element = driver.find_element(by=AppiumBy.ID, value=button_id)\n",
    "actions.move_to_element(element)\n",
    "actions.click()\n",
    "actions.perform()\n"
   ]
  },
  {
   "cell_type": "code",
   "execution_count": null,
   "metadata": {},
   "outputs": [],
   "source": [
    "time.sleep(1)\n",
    "driver.implicitly_wait(20)\n",
    "#关闭应用\n",
    "button_id = 'android:id/aerr_close'\n",
    "element = driver.find_element(by=AppiumBy.ID, value=button_id)\n",
    "actions.move_to_element(element)\n",
    "actions.click()\n",
    "actions.perform()\n",
    "\n"
   ]
  },
  {
   "cell_type": "code",
   "execution_count": null,
   "metadata": {},
   "outputs": [],
   "source": [
    "time.sleep(1)\n",
    "driver.implicitly_wait(10)\n",
    "#点击重启\n",
    "xpath='/hierarchy/android.widget.FrameLayout/android.widget.LinearLayout/android.widget.FrameLayout/android.widget.FrameLayout/android.widget.FrameLayout/android.view.ViewGroup/android.view.ViewGroup/android.view.ViewGroup/android.widget.TextView[9]'\n",
    "element = driver.find_element(by=AppiumBy.XPATH, value=xpath).click()\n"
   ]
  },
  {
   "cell_type": "code",
   "execution_count": 3,
   "metadata": {},
   "outputs": [],
   "source": [
    "#设置缺省等待时间，防止过快报错\n",
    "time.sleep(3)\n",
    "driver.implicitly_wait(20)\n",
    "\n",
    "button_id = 'com.autonavi.minimap:id/maphome_searchbar_bg'\n",
    "element = driver.find_element(by=AppiumBy.ID, value=button_id)\n",
    "actions.move_to_element(element)\n",
    "actions.click()\n",
    "actions.perform()\n"
   ]
  },
  {
   "cell_type": "code",
   "execution_count": 4,
   "metadata": {},
   "outputs": [
    {
     "data": {
      "text/plain": [
       "<appium.webdriver.webelement.WebElement (session=\"82e03f1e-c698-47e5-861c-a32b93a2fd83\", element=\"bb6dae75-07d2-4242-8067-be2c9810b063\")>"
      ]
     },
     "execution_count": 4,
     "metadata": {},
     "output_type": "execute_result"
    }
   ],
   "source": [
    "\n",
    "#目的地\n",
    "time.sleep(3)\n",
    "driver.implicitly_wait(10)\n",
    "\n",
    "els1 = driver.find_elements(by=AppiumBy.CLASS_NAME,value=\"android.widget.EditText\")\n",
    "els1[0].send_keys(\"上海交通大学\")\n"
   ]
  },
  {
   "cell_type": "code",
   "execution_count": 5,
   "metadata": {},
   "outputs": [],
   "source": [
    "time.sleep(3)\n",
    "driver.implicitly_wait(10)\n",
    "#点击搜索\n",
    "element = driver.find_element(by=AppiumBy.ACCESSIBILITY_ID, value='搜索').click()\n"
   ]
  },
  {
   "cell_type": "code",
   "execution_count": 6,
   "metadata": {},
   "outputs": [],
   "source": [
    "time.sleep(3)\n",
    "driver.implicitly_wait(10)\n",
    "#点击路线\n",
    "xpath = \"(//android.view.ViewGroup[@content-desc='路线'])[1]/android.view.ViewGroup/android.widget.ImageView\"\n",
    "element = driver.find_element(by=AppiumBy.XPATH, value=xpath).click()\n"
   ]
  },
  {
   "cell_type": "code",
   "execution_count": 7,
   "metadata": {},
   "outputs": [],
   "source": [
    "\n",
    "time.sleep(3)\n",
    "driver.implicitly_wait(15)\n",
    "#点击准备搜索出发地\n",
    "button_id = 'com.autonavi.minimap:id/route_edit_summary_start'\n",
    "element = driver.find_element(by=AppiumBy.ID, value=button_id).click()\n"
   ]
  },
  {
   "cell_type": "code",
   "execution_count": 8,
   "metadata": {},
   "outputs": [
    {
     "data": {
      "text/plain": [
       "<appium.webdriver.webdriver.WebDriver (session=\"82e03f1e-c698-47e5-861c-a32b93a2fd83\")>"
      ]
     },
     "execution_count": 8,
     "metadata": {},
     "output_type": "execute_result"
    }
   ],
   "source": [
    "#出发地\n",
    "time.sleep(3)\n",
    "driver.implicitly_wait(15)\n",
    "\n",
    "els2 = driver.find_elements(by=AppiumBy.CLASS_NAME,value=\"android.widget.EditText\")\n",
    "els2[0].clear()\n",
    "els2[0].send_keys(\"上海财经大学\")\n",
    "driver.press_keycode(AndroidKey.ENTER)\n"
   ]
  },
  {
   "cell_type": "code",
   "execution_count": 9,
   "metadata": {},
   "outputs": [],
   "source": [
    "\n",
    "time.sleep(3)\n",
    "driver.implicitly_wait(10)\n",
    "\n",
    "xpath = '/hierarchy/android.widget.FrameLayout/android.widget.LinearLayout/android.widget.FrameLayout/android.widget.LinearLayout/android.widget.FrameLayout/android.widget.FrameLayout[2]/android.widget.FrameLayout/android.widget.RelativeLayout/android.widget.RelativeLayout/android.widget.FrameLayout/android.view.ViewGroup/android.view.ViewGroup/android.view.ViewGroup/android.view.ViewGroup/android.widget.LinearLayout/android.support.v7.widget.RecyclerView/android.view.ViewGroup[3]/android.view.ViewGroup/android.view.ViewGroup/android.view.ViewGroup/android.view.ViewGroup/android.view.ViewGroup/android.view.ViewGroup/android.view.ViewGroup[1]/android.view.View'\n",
    "element = driver.find_element(by=AppiumBy.XPATH, value=xpath)\n",
    "actions.move_to_element(element)\n",
    "actions.click()\n",
    "actions.perform()\n"
   ]
  },
  {
   "cell_type": "code",
   "execution_count": 11,
   "metadata": {},
   "outputs": [
    {
     "name": "stdout",
     "output_type": "stream",
     "text": [
      "{'曹操出行': ['隐私保护', '敢坐敢赔', '预估 ', '55', ' 元'], '享道出行特惠': ['隐私保护', '敢坐敢赔', '预估 ', '59', ' 元'], '方舟行': ['隐私保护', '敢坐敢赔', '预估 ', '60', ' 元'], '900出行': ['隐私保护', '敢坐敢赔', '预估 ', '61', ' 元'], '神州专车': ['隐私保护', '敢坐敢赔', '预估 ', '64', ' 元'], '桔子出行': ['隐私保护', '敢坐敢赔', '预估 ', '64', ' 元'], '免佣联盟精选司机': ['严选司机', '极速赔付', '售后保障', '预估 ', '66', ' 元'], '首汽约车': ['隐私保护', '敢坐敢赔', '预估 ', '66', ' 元'], '众行特惠': ['纸质发票', '敢坐敢赔', '预估 ', '68', ' 元'], '添猫出行': ['隐私保护', '敢坐敢赔', '预估 ', '68', ' 元'], 'T3出行': ['隐私保护', '敢坐敢赔', '预估 ', '69', ' 元'], '出租车': ['优享型', '1', '品质专车', '六座商务', '豪华型', '神州专车', '隐私保护', '敢坐敢赔', '预估 ', '64', ' 元'], '62580约车': ['隐私保护', '敢坐敢赔', '预估 ', '72', ' 元'], '大众出租': ['纸质发票', '敢坐敢赔', '预估 ', '80', ' 元'], '享道出行': ['隐私保护', '敢坐敢赔', '预估 ', '80', ' 元'], '阳光出行': ['隐私保护', '敢坐敢赔', '预估 ', '81', ' 元']}\n",
      "['', '现在', '选乘车人', '接送机', '助老打车', '企业版', '预估 ', '53', '.6', '-', '80', ' 元起', '已选26个车型', '立即打车', '个人中心', '我的卡券', \"预估应答率<font color='@Color_Text_Red' size='32'>62%</font>，增加车型更快应答\", '¥53', '¥53', '¥80', '¥90', '更快应答', '¥174', '特价车', '13', '经济型', '12', '出租车', '优享型', '1', '品质专车', '六座商务', '豪华型', '限时享', '特价车', '已选<font color=&quot;@Color_Hue10_H6&quot;>13/13</font>个', '附加费需额外支付', '一口价 ', '53', '.6', ' 元', '经济型', '12', '12', '全选经济', '曹操出行', '隐私保护', '敢坐敢赔', '预估 ', '55', ' 元', '已优惠<font color=&apos;#FF653F&apos;><strong>12</strong></font>元', '享道出行特惠', '隐私保护', '敢坐敢赔', '预估 ', '59', ' 元', '方舟行', '隐私保护', '敢坐敢赔', '预估 ', '60', ' 元', 'T3特选', '隐私保护', '敢坐敢赔', '预估 ', '60', ' 元', '900出行', '隐私保护', '敢坐敢赔', '预估 ', '61', ' 元', '神州专车', '', '', '', '现在', '选乘车人', '接送机', '助老打车', '企业版', '预估 ', '53', '.6', '-', '80', ' 元起', '已选26个车型', '立即打车', '上海财经大学国家大学科技园(北门)', '上海交通大学徐汇校区', \"预估应答率<font color='@Color_Text_Red' size='32'>62%</font>，增加车型更快应答\", '¥53', '¥53', '¥80', '¥90', '更快应答', '¥174', '特价车', '13', '经济型', '12', '出租车', '优享型', '1', '品质专车', '六座商务', '豪华型', '限时享', '特价车', '已选<font color=&quot;@Color_Hue10_H6&quot;>13/13</font>个', '附加费需额外支付', '一口价 ', '53', '.6', ' 元', '经济型', '12', '12', '全选经济', '曹操出行', '隐私保护', '敢坐敢赔', '预估 ', '55', ' 元', '已优惠<font color=&apos;#FF653F&apos;><strong>12</strong></font>元', '享道出行特惠', '隐私保护', '敢坐敢赔', '预估 ', '59', ' 元', '方舟行', '隐私保护', '敢坐敢赔', '预估 ', '60', ' 元', 'T3特选', '隐私保护', '敢坐敢赔', '预估 ', '60', ' 元', '900出行', '隐私保护', '敢坐敢赔', '预估 ', '61', ' 元', '神州专车', '隐私保护', '敢坐敢赔', '预估 ', '64', ' 元', '桔子出行', '隐私保护', '敢坐敢赔', '预估 ', '64', ' 元', '免佣联盟精选司机', '严选司机', '极速赔付', '售后保障', '预估 ', '66', ' 元', '首汽约车', '隐私保护', '敢坐敢赔', '预估 ', '66', ' 元', '众行特惠', '纸质发票', '敢坐敢赔', '预估 ', '68', ' 元', '添猫出行', '隐私保护', '敢坐敢赔', '预估 ', '68', ' 元', 'T3出行', '69', '', '', '', '现在', '选乘车人', '接送机', '助老打车', '企业版', '预估 ', '53', '.6', '-', '80', ' 元起', '已选26个车型', '立即打车', '上海财经大学国家大学科技园(北门)', '上海交通大学徐汇校区', \"预估应答率<font color='@Color_Text_Red' size='32'>62%</font>，增加车型更快应答\", '¥53', '¥53', '¥80', '¥90', '更快应答', '¥174', '特价车', '13', '经济型', '12', '出租车', '优享型', '1', '品质专车', '六座商务', '豪华型', '神州专车', '隐私保护', '敢坐敢赔', '预估 ', '64', ' 元', '桔子出行', '隐私保护', '敢坐敢赔', '预估 ', '64', ' 元', '免佣联盟精选司机', '严选司机', '极速赔付', '售后保障', '预估 ', '66', ' 元', '首汽约车', '隐私保护', '敢坐敢赔', '预估 ', '66', ' 元', '众行特惠', '纸质发票', '敢坐敢赔', '预估 ', '68', ' 元', '添猫出行', '隐私保护', '敢坐敢赔', '预估 ', '68', ' 元', 'T3出行', '隐私保护', '敢坐敢赔', '预估 ', '69', ' 元', 'TAXI', '62580约车', '隐私保护', '敢坐敢赔', '预估 ', '72', ' 元', 'TAXI', '大众出租', '纸质发票', '敢坐敢赔', '预估 ', '80', ' 元', '享道出行', '隐私保护', '敢坐敢赔', '预估 ', '80', ' 元', '阳光出行', '隐私保护', '敢坐敢赔', '预估 ', '81', ' 元', '<font color=&apos;#999999&apos;>以下服务商附近无车<font/>']\n"
     ]
    }
   ],
   "source": [
    "\n",
    "time.sleep(3)\n",
    "driver.implicitly_wait(10)\n",
    "\n",
    "screenSize = driver.get_window_size()\n",
    "screenW = screenSize['width']\n",
    "screenH = screenSize['height']\n",
    "x =  screenW/2\n",
    "y1 = int(screenH*0.8)\n",
    "y2 = int(screenH*0.4)\n",
    "avlst=[]\n",
    "navlst=[]\n",
    "for i in range(20):\n",
    "    els4= driver.find_elements(by=AppiumBy.CLASS_NAME,value=\"android.view.View\")\n",
    "    \n",
    "    #截屏\n",
    "    now_time=time.strftime(\"%Y_%m_%d %H_%M_%S\")\n",
    "    driver.save_screenshot('anjian{}.png'.format(now_time))\n",
    "    \n",
    "    for ele in els4:\n",
    "        name=ele.id\n",
    "        title=ele.text\n",
    "        if name in avlst:\n",
    "            continue\n",
    "        avlst.append(title)\n",
    "        if title == '<font color=&apos;#999999&apos;>以下服务商附近无车<font/>':\n",
    "            break\n",
    "    if title == '<font color=&apos;#999999&apos;>以下服务商附近无车<font/>':\n",
    "        break\n",
    "    \n",
    "    \n",
    "    driver.swipe(start_x=x, start_y=y1, end_x=x, end_y=y2, duration=800)\n",
    "\n",
    "#还缺\n",
    "companylist = ['聚的出租车', '聚的新出租', '鞍马出行', '优e出行', '安安用车', '搭顺出行', '风韵出行', '携华出行', '乐拼用车', '及时用车', '365约车', '聚优出租', '悦行出行', '优e出租', '平凉出租', '斑马快跑', '欧亚出行', '雷利出行', '团子出行', '金张掖出租', '首汽约车', '呼我出行', '牦牛出租', 'T3出行', '鑫钜专车', '快来车', '捎点宝出行', '腾飞出行', '喜行约车', '妥妥E行', '汇迪出租车', '曹操出行', '小牛快跑', '任行专车', '放心出行', '吉汽约车', '陕水务出行', '仟嘉出租', '全在用车', '众车出行', 'Uto悠途', '900出行', '招招出行', '老兵约车', '麦田商旅', '五福出租', '阳光出行', '陇南出租', '逸乘出行', '江南出行', '牦牛约车', '易至出行', '顺道出行', '江西出租', '小巷约车', '全民GO', '及时出行', '车马上到', '罗伦士出行', '小马出行', '蓉橙出行', '叮叮出行', '幸福专车', '动力出行', '大象出行', '橄榄绿出行', '神州专车', \n",
    "'飞嘀打车', '旅程约车', '途途行', '飞马出行', '兰州出租', '享道出行特惠', '麦巴出行', '犇犇出行', '蔷薇出行', '速的出行', '创业者出行', '天府行', '云南出行', 'AA出行', '铁航专车', '燕都出行', '犇犇约车', '中交出行', '迪尔出行', 'e族出行', '玖玖约车', '哈喽优行', '天津出行', '快客出行', '旅程出租', 'J刻出行', '易约出行', '蛋卷出租', '5U出行', '博度出行', '巴运出行', '株洲出租车', '来了出行', '易通出行', '星徽出行', '鞍山出租', '甘薯出行', '易达出行', '妥妥出租', '好久来', '添猫出行', '漳州出租', '日初出行', '闽东出租', '三秦出行', '国民初行', '普惠约车', '博约出行', '元翔专车', '帮邦行', '中军出行', '腾飞出租', '南京出租车', '湘潭出租', '享约车', '有滴旅程', '民途出行', '北方出行', '云能行', '昆明打车', '新月出租', '渔阳出行', '北汽出租', '北京的士', '金银建出行', '旅程易到', '大雁出行', '佰联出租', '纳溪出租', '泸州出租', \n",
    "'大国出行', '温州出租', '海厚出租', '大众约车', '环旅出行', '大众出租', '众行特惠', '方舟行', '悦道出行', '桔子出行', '鹰明出行', '申程出行', '徐州全顺', '客多多出行', '绍兴出租', '飞豹出行', 'K9用车', '开心出行', '如一出行', '双创打车', '海后出租', '金宇出租', '黄金出行', '三合e行', '众至用车', '天津出租', '首邀出行', '惠州出租', '连云港出租', '淮安出行', '有鹏出行', '深圳出租', '如祺出行', '合易接送', '百靓出行', '中山出租车', '如嘀出行', '任行出租', '国泰出租', '新动出行', '及客出行', '吉唐出租', '国泰出行', '幸福千万家', '重庆出租', '易达专车', '富安出行', '智体行', '优讯快车', '星城出租', '和行约车', '和行神州', '摩登出行', '免佣联盟精选司机', '青岛出租', '万行出租', '惠普约车', '麒麟优车', '吉刻上车', '沈城出租', '快马嘟嘟', '吉林出租', '旗妙出行', '众迪出租', '联友出行', '三合出行', '普惠出行', '神骅飞鹏', '江西出行', \n",
    "'果橙打车', '云途出行', '安易出行', '礼帽出行','阳光出行','享道出行','大众出租','T3出行','62580约车','众车出行','易达出行','雷利出租','聚优出租','斑马快跑','国泰出租','飞嘀打车','快来车','美程出行', '成都出租', '深驾出行', '出租车', '打表出租车', '滴滴快车', '耗牛出租', '耗牛约车', '及时约车', '聚的-礼宾出租车', '乐拼出行', '南京出租', '拼车', '全民go', '日初出总', '捐点宝出行', '特价拼车','五福', '享道出行', '享道特惠出行', '星道出行', '逸乘聚的', '优e新出租']\n",
    "\n",
    "a=0\n",
    "longlist=[]    #longlist包括经济型中的所有元素\n",
    "for i in range(len(avlst)):\n",
    "    if avlst[i]=='全选经济':\n",
    "        a+=1\n",
    "    if a==2:\n",
    "        longlist.append(avlst[i])\n",
    "    if avlst[i]=='<font color=&apos;#999999&apos;>以下服务商附近无车<font/>':\n",
    "        b=i\n",
    "        break\n",
    "#前面能输出经济型框框里所有内容\n",
    "\n",
    "zidian={}\n",
    "for i in range(len(longlist)):\n",
    "    if longlist[i] in companylist:\n",
    "        c=longlist[i:]\n",
    "        for j in range(len(c)):\n",
    "            if c[j] ==' 元':\n",
    "                zidian[c[0]]=c[1:1+j]\n",
    "                break\n",
    "print( zidian )\n",
    "print(avlst)\n"
   ]
  },
  {
   "cell_type": "code",
   "execution_count": 12,
   "metadata": {},
   "outputs": [],
   "source": [
    "#点击查看服务商\n",
    "time.sleep(3)\n",
    "driver.implicitly_wait(10)\n",
    "els5= driver.find_elements(by=AppiumBy.CLASS_NAME,value=\"android.view.View\")\n",
    "m=0\n",
    "for ele in els5:\n",
    "    if ele.text=='查看服务商':\n",
    "        n=m\n",
    "        break\n",
    "    m+=1\n",
    "els5[n].click()\n"
   ]
  },
  {
   "cell_type": "code",
   "execution_count": 13,
   "metadata": {},
   "outputs": [
    {
     "name": "stdout",
     "output_type": "stream",
     "text": [
      "{'大众约车': ['隐私保护', '预估 ', '58', ' 元'], '悦道出行': ['隐私保护', '预估 ', '61', ' 元'], 'AA出行': ['隐私保护', '预估 ', '68', ' 元']}\n",
      "['', '现在', '选乘车人', '接送机', '助老打车', '企业版', '预估 ', '53', '.6', '-', '80', ' 元起', '已选26个车型', '立即打车', '上海财经大学国家大学科技园(北门)', '上海交通大学徐汇校区', \"预估应答率<font color='@Color_Text_Red' size='32'>62%</font>，增加车型更快应答\", '¥53', '¥53', '¥80', '¥90', '更快应答', '¥174', '特价车', '13', '经济型', '12', '出租车', '优享型', '1', '品质专车', '六座商务', '豪华型', '神州专车', '隐私保护', '敢坐敢赔', '预估 ', '64', ' 元', '桔子出行', '隐私保护', '敢坐敢赔', '预估 ', '64', ' 元', '免佣联盟精选司机', '严选司机', '极速赔付', '售后保障', '预估 ', '66', ' 元', '首汽约车', '隐私保护', '敢坐敢赔', '预估 ', '66', ' 元', '众行特惠', '纸质发票', '敢坐敢赔', '预估 ', '68', ' 元', '添猫出行', '隐私保护', '敢坐敢赔', '预估 ', '68', ' 元', 'T3出行', '隐私保护', '敢坐敢赔', '预估 ', '69', ' 元', 'TAXI', '62580约车', '隐私保护', '敢坐敢赔', '预估 ', '72', ' 元', 'TAXI', '大众出租', '纸质发票', '敢坐敢赔', '预估 ', '80', ' 元', '享道出行', '隐私保护', '敢坐敢赔', '预估 ', '80', ' 元', '阳光出行', '隐私保护', '敢坐敢赔', '预估 ', '81', ' 元', '<font color=&apos;#999999&apos;>以下服务商附近无车<font/>', '查看服务商', '出租车', 'TAXI', '打表出租车', '已选<font color=&quot;@Color_Hue10_H6&quot;>0/3</font>个', '预估 ', '81', ' 元', '附近服务商车辆较少', '以下服务商附近车辆较少，同时呼叫应答概率低', '全选', '确认', '大众约车', '隐私保护', '预估 ', '58', ' 元', '悦道出行', '隐私保护', '预估 ', '61', ' 元', 'AA出行', '隐私保护', '预估 ', '68', ' 元', '', '', '', '现在', '选乘车人', '接送机', '助老打车', '企业版', '预估 ', '53', '.6', '-', '80', ' 元起', '已选26个车型', '立即打车', '上海财经大学国家大学科技园(北门)', '上海交通大学徐汇校区', \"预估应答率<font color='@Color_Text_Red' size='32'>62%</font>，增加车型更快应答\", '¥53', '¥53', '¥80', '¥90', '更快应答', '¥174', '特价车', '13', '经济型', '12', '出租车', '优享型', '1', '品质专车', '六座商务', '豪华型', '神州专车', '隐私保护', '敢坐敢赔', '预估 ', '64', ' 元', '桔子出行', '隐私保护', '敢坐敢赔', '预估 ', '64', ' 元', '免佣联盟精选司机', '严选司机', '极速赔付', '售后保障', '预估 ', '66', ' 元', '首汽约车', '隐私保护', '敢坐敢赔', '预估 ', '66', ' 元', '众行特惠', '纸质发票', '敢坐敢赔', '预估 ', '68', ' 元', '添猫出行', '隐私保护', '敢坐敢赔', '预估 ', '68', ' 元', 'T3出行', '隐私保护', '敢坐敢赔', '预估 ', '69', ' 元', 'TAXI', '62580约车', '隐私保护', '敢坐敢赔', '预估 ', '72', ' 元', 'TAXI', '大众出租', '纸质发票', '敢坐敢赔', '预估 ', '80', ' 元', '享道出行', '隐私保护', '敢坐敢赔', '预估 ', '80', ' 元', '阳光出行', '隐私保护', '敢坐敢赔', '预估 ', '81', ' 元', '<font color=&apos;#999999&apos;>以下服务商附近无车<font/>', '查看服务商', '出租车', 'TAXI', '打表出租车', '已选<font color=&quot;@Color_Hue10_H6&quot;>0/3</font>个', '预估 ', '81', ' 元', '附近服务商车辆较少', '以下服务商附近车辆较少，同时呼叫应答概率低', '全选', '确认', '大众约车', '隐私保护', '预估 ', '58', ' 元', '悦道出行', '隐私保护', '预估 ', '61', ' 元', 'AA出行', '隐私保护', '预估 ', '68', ' 元', '', '', '', '现在', '选乘车人', '接送机', '助老打车', '企业版', '预估 ', '53', '.6', '-', '80', ' 元起', '已选26个车型', '立即打车', '上海财经大学国家大学科技园(北门)', '上海交通大学徐汇校区', \"预估应答率<font color='@Color_Text_Red' size='32'>62%</font>，增加车型更快应答\", '¥53', '¥53', '¥80', '¥90', '更快应答', '¥174', '特价车', '13', '经济型', '12', '出租车', '优享型', '1', '品质专车', '六座商务', '豪华型', '神州专车', '隐私保护', '敢坐敢赔', '预估 ', '64', ' 元', '桔子出行', '隐私保护', '敢坐敢赔', '预估 ', '64', ' 元', '免佣联盟精选司机', '严选司机', '极速赔付', '售后保障', '预估 ', '66', ' 元', '首汽约车', '隐私保护', '敢坐敢赔', '预估 ', '66', ' 元', '众行特惠', '纸质发票', '敢坐敢赔', '预估 ', '68', ' 元', '添猫出行', '隐私保护', '敢坐敢赔', '预估 ', '68', ' 元', 'T3出行', '隐私保护', '敢坐敢赔', '预估 ', '69', ' 元', 'TAXI', '62580约车', '隐私保护', '敢坐敢赔', '预估 ', '72', ' 元', 'TAXI', '大众出租', '纸质发票', '敢坐敢赔', '预估 ', '80', ' 元', '享道出行', '隐私保护', '敢坐敢赔', '预估 ', '80', ' 元', '阳光出行', '隐私保护', '敢坐敢赔', '预估 ', '81', ' 元', '<font color=&apos;#999999&apos;>以下服务商附近无车<font/>', '查看服务商', '出租车', 'TAXI', '打表出租车', '已选<font color=&quot;@Color_Hue10_H6&quot;>0/3</font>个', '预估 ', '81', ' 元', '附近服务商车辆较少', '以下服务商附近车辆较少，同时呼叫应答概率低', '全选', '确认', '大众约车', '隐私保护', '预估 ', '58', ' 元', '悦道出行', '隐私保护', '预估 ', '61', ' 元', 'AA出行', '隐私保护', '预估 ', '68', ' 元', '', '', '', '现在', '选乘车人', '接送机', '助老打车', '企业版', '预估 ', '53', '.6', '-', '80', ' 元起', '已选26个车型', '立即打车', '上海财经大学国家大学科技园(北门)', '上海交通大学徐汇校区', \"预估应答率<font color='@Color_Text_Red' size='32'>62%</font>，增加车型更快应答\", '¥53', '¥53', '¥80', '¥90', '更快应答', '¥174', '特价车', '13', '经济型', '12', '出租车', '优享型', '1', '品质专车', '六座商务', '豪华型', '神州专车', '隐私保护', '敢坐敢赔', '预估 ', '64', ' 元', '桔子出行', '隐私保护', '敢坐敢赔', '预估 ', '64', ' 元', '免佣联盟精选司机', '严选司机', '极速赔付', '售后保障', '预估 ', '66', ' 元', '首汽约车', '隐私保护', '敢坐敢赔', '预估 ', '66', ' 元', '众行特惠', '纸质发票', '敢坐敢赔', '预估 ', '68', ' 元', '添猫出行', '隐私保护', '敢坐敢赔', '预估 ', '68', ' 元', 'T3出行', '隐私保护', '敢坐敢赔', '预估 ', '69', ' 元', 'TAXI', '62580约车', '隐私保护', '敢坐敢赔', '预估 ', '72', ' 元', 'TAXI', '大众出租', '纸质发票', '敢坐敢赔', '预估 ', '80', ' 元', '享道出行', '隐私保护', '敢坐敢赔', '预估 ', '80', ' 元', '阳光出行', '隐私保护', '敢坐敢赔', '预估 ', '81', ' 元', '<font color=&apos;#999999&apos;>以下服务商附近无车<font/>', '查看服务商', '出租车', 'TAXI', '打表出租车', '已选<font color=&quot;@Color_Hue10_H6&quot;>0/3</font>个', '预估 ', '81', ' 元', '附近服务商车辆较少', '以下服务商附近车辆较少，同时呼叫应答概率低', '全选', '确认', '大众约车', '隐私保护', '预估 ', '58', ' 元', '悦道出行', '隐私保护', '预估 ', '61', ' 元', 'AA出行', '隐私保护', '预估 ', '68', ' 元', '', '']\n"
     ]
    }
   ],
   "source": [
    "time.sleep(3)\n",
    "\n",
    "for i in range(2):\n",
    "    els5= driver.find_elements(by=AppiumBy.CLASS_NAME,value=\"android.view.View\") \n",
    "    \n",
    "    #截屏\n",
    "    now_time=time.strftime(\"%Y_%m_%d %H_%M_%S\")\n",
    "    driver.save_screenshot('anjian{}.png'.format(now_time))\n",
    "    \n",
    "    for ele in els5:\n",
    "       name=ele.id\n",
    "       title=ele.text\n",
    "       if name in navlst:\n",
    "           continue\n",
    "       navlst.append(title)\n",
    "    \n",
    "    driver.swipe(start_x=x, start_y=y1, end_x=x, end_y=y2, duration=800)    \n",
    "\n",
    "a=0\n",
    "shortlist=[]\n",
    "for i in range(len(navlst)):\n",
    "    if navlst[i]=='以下服务商附近车辆较少，同时呼叫应答概率低':\n",
    "        a+=1\n",
    "    if  a==1:\n",
    "        for j in range(len(navlst[i:])):\n",
    "            shortlist.append(navlst[i+j])\n",
    "            if navlst[i+j]=='现在':\n",
    "                break\n",
    "        break\n",
    "\n",
    "zidian={}\n",
    "for i in range(len(shortlist)):\n",
    "    if shortlist[i] in companylist:\n",
    "        d=shortlist[i:]\n",
    "        for j in range(len(d)):\n",
    "            if d[j] ==' 元':\n",
    "                zidian[d[0]]=d[1:j+1]\n",
    "                break\n",
    "        continue\n",
    "print(zidian)\n",
    "print(navlst)"
   ]
  },
  {
   "cell_type": "code",
   "execution_count": 14,
   "metadata": {},
   "outputs": [
    {
     "name": "stdout",
     "output_type": "stream",
     "text": [
      " ****finish one search\n"
     ]
    }
   ],
   "source": [
    "\n",
    "#退出\n",
    "print(\" ****finish one search\")\n",
    "driver.quit()"
   ]
  }
 ],
 "metadata": {
  "kernelspec": {
   "display_name": "Python 3",
   "language": "python",
   "name": "python3"
  },
  "language_info": {
   "codemirror_mode": {
    "name": "ipython",
    "version": 3
   },
   "file_extension": ".py",
   "mimetype": "text/x-python",
   "name": "python",
   "nbconvert_exporter": "python",
   "pygments_lexer": "ipython3",
   "version": "3.11.2"
  },
  "orig_nbformat": 4,
  "vscode": {
   "interpreter": {
    "hash": "5ea7a7d884c5d548dc500d9e01e3ecce19d05be85d895a588f29fc0770e00c8d"
   }
  }
 },
 "nbformat": 4,
 "nbformat_minor": 2
}
