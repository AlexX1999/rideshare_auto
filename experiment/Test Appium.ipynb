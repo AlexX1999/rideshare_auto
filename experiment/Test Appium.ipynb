{
 "cells": [
  {
   "cell_type": "code",
   "execution_count": 93,
   "id": "4dbad712",
   "metadata": {},
   "outputs": [],
   "source": [
    "\n",
    "from appium import webdriver\n",
    "from appium.webdriver.common.appiumby import AppiumBy\n",
    "\n",
    "\n",
    "# For W3C actions\n",
    "from selenium.webdriver.common.action_chains import ActionChains\n",
    "from selenium.webdriver.common.actions import interaction\n",
    "from selenium.webdriver.common.actions.action_builder import ActionBuilder\n",
    "from selenium.webdriver.common.actions.pointer_input import PointerInput\n",
    "from appium.webdriver.common.touch_action import TouchAction\n"
   ]
  },
  {
   "cell_type": "code",
   "execution_count": 250,
   "id": "ec3998ee",
   "metadata": {},
   "outputs": [],
   "source": [
    "\n",
    "caps = {}\n",
    "caps[\"appium:deviceName\"] = \"Android Emulator\"\n",
    "caps[\"platformName\"] = \"Android\"\n",
    "caps[\"appium:app\"] = \"C:\\\\Users\\\\xudon\\\\Downloads\\\\gaode.apk\"\n",
    "caps[\"appium:appWaitActivity\"] = \"com.autonavi.map.activity.NewMapActivity\"\n",
    "caps[\"appium:appPackage\"] = \"com.autonavi.minimap\"\n",
    "caps[\"appium:udid\"] = \"emulator-5554\"\n",
    "caps[\"appium:ensureWebviewsHavePages\"] = True\n",
    "caps[\"appium:nativeWebScreenshot\"] = True\n",
    "caps[\"appium:newCommandTimeout\"] = 3600\n",
    "caps[\"appium:connectHardwareKeyboard\"] = True\n",
    "\n",
    "driver = webdriver.Remote(\"http://127.0.0.1:4723/wd/hub\", caps)"
   ]
  },
  {
   "cell_type": "code",
   "execution_count": 251,
   "id": "36d3b1a3",
   "metadata": {},
   "outputs": [],
   "source": [
    "actions = ActionChains(driver)\n",
    "element = driver.find_element(by=AppiumBy.ID, value=\"com.autonavi.minimap:id/agree\")\n",
    "actions.move_to_element(element)\n",
    "actions.click()\n",
    "actions.perform()"
   ]
  },
  {
   "cell_type": "code",
   "execution_count": 252,
   "id": "f62234cd",
   "metadata": {},
   "outputs": [],
   "source": [
    "add_auto_xpath = '/hierarchy/android.widget.FrameLayout/android.widget.LinearLayout/android.widget.FrameLayout/android.widget.FrameLayout/android.widget.LinearLayout/android.widget.LinearLayout/android.widget.Button[2]'\n",
    "element = driver.find_element(by=AppiumBy.XPATH, value=add_auto_xpath)\n",
    "actions.move_to_element(element)\n",
    "actions.click()\n",
    "actions.perform()"
   ]
  },
  {
   "cell_type": "code",
   "execution_count": 253,
   "id": "afc51d40",
   "metadata": {},
   "outputs": [],
   "source": [
    "button_id = 'com.android.permissioncontroller:id/permission_allow_foreground_only_button'\n",
    "element = driver.find_element(by=AppiumBy.ID, value=button_id)\n",
    "actions.move_to_element(element)\n",
    "actions.click()\n",
    "actions.perform()"
   ]
  },
  {
   "cell_type": "code",
   "execution_count": 254,
   "id": "277ed710",
   "metadata": {},
   "outputs": [],
   "source": [
    "button_id = 'com.autonavi.minimap:id/maphome_searchbar_bg'\n",
    "element = driver.find_element(by=AppiumBy.ID, value=button_id)\n",
    "actions.move_to_element(element)\n",
    "actions.click()\n",
    "actions.perform()"
   ]
  },
  {
   "cell_type": "code",
   "execution_count": 255,
   "id": "f7931605",
   "metadata": {},
   "outputs": [],
   "source": [
    "xpath = '/hierarchy/android.widget.FrameLayout/android.widget.LinearLayout/android.widget.FrameLayout/android.widget.LinearLayout/android.widget.FrameLayout/android.widget.FrameLayout[4]/android.widget.FrameLayout/android.view.ViewGroup/android.widget.RelativeLayout/android.widget.RelativeLayout/android.widget.RelativeLayout/android.widget.FrameLayout/android.view.ViewGroup/android.view.ViewGroup/android.view.ViewGroup/android.view.ViewGroup[2]/android.view.ViewGroup[1]/android.view.ViewGroup/android.view.ViewGroup[2]/android.widget.EditText[2]'\n",
    "element = driver.find_element(by=AppiumBy.XPATH, value=xpath).send_keys('静安寺')"
   ]
  },
  {
   "cell_type": "code",
   "execution_count": 256,
   "id": "01721464",
   "metadata": {},
   "outputs": [],
   "source": [
    "element = driver.find_element(by=AppiumBy.ACCESSIBILITY_ID, value='搜索')\n",
    "actions.move_to_element(element)\n",
    "actions.click()\n",
    "actions.perform()"
   ]
  },
  {
   "cell_type": "code",
   "execution_count": 257,
   "id": "f20a65aa",
   "metadata": {},
   "outputs": [],
   "source": [
    "xpath = '(//android.view.ViewGroup[@content-desc=\"路线\"])[1]/android.view.View'\n",
    "element = driver.find_element(by=AppiumBy.XPATH, value=xpath).click()"
   ]
  },
  {
   "cell_type": "code",
   "execution_count": 258,
   "id": "f1fb9167",
   "metadata": {},
   "outputs": [],
   "source": [
    "button_id = 'com.autonavi.minimap:id/route_edit_summary_start'\n",
    "element = driver.find_element(by=AppiumBy.ID, value=button_id).click()"
   ]
  },
  {
   "cell_type": "code",
   "execution_count": 259,
   "id": "4b0ec92e",
   "metadata": {},
   "outputs": [
    {
     "data": {
      "text/plain": [
       "<appium.webdriver.webelement.WebElement (session=\"65a29858-6028-491e-85b0-049f84806621\", element=\"00000000-0000-0023-ffff-ffff00000716\")>"
      ]
     },
     "execution_count": 259,
     "metadata": {},
     "output_type": "execute_result"
    }
   ],
   "source": [
    "xpath = '/hierarchy/android.widget.FrameLayout/android.widget.LinearLayout/android.widget.FrameLayout/android.widget.LinearLayout/android.widget.FrameLayout/android.widget.FrameLayout[5]/android.widget.FrameLayout/android.widget.RelativeLayout/android.widget.RelativeLayout/android.widget.FrameLayout/android.view.ViewGroup/android.view.ViewGroup/android.view.ViewGroup/android.view.ViewGroup[3]/android.view.ViewGroup/android.view.ViewGroup[2]/android.view.ViewGroup/android.view.ViewGroup[1]/android.view.ViewGroup[1]/android.view.ViewGroup[2]/android.widget.EditText'\n",
    "element = driver.find_element(by=AppiumBy.XPATH, value=xpath)\n",
    "element.set_text('上海大学')"
   ]
  },
  {
   "cell_type": "code",
   "execution_count": 260,
   "id": "cb9ebefa",
   "metadata": {},
   "outputs": [],
   "source": [
    "xpath = '/hierarchy/android.widget.FrameLayout/android.widget.LinearLayout/android.widget.FrameLayout/android.widget.LinearLayout/android.widget.FrameLayout/android.widget.FrameLayout[5]/android.widget.FrameLayout/android.widget.RelativeLayout/android.widget.RelativeLayout/android.widget.FrameLayout/android.view.ViewGroup/android.view.ViewGroup/android.view.ViewGroup/android.view.ViewGroup[2]/android.view.ViewGroup/android.view.ViewGroup/android.widget.LinearLayout/android.support.v7.widget.RecyclerView/android.view.ViewGroup[2]/android.view.ViewGroup/android.view.ViewGroup/android.view.ViewGroup/android.view.ViewGroup[1]/android.view.ViewGroup[2]/android.widget.ImageView'\n",
    "element = driver.find_element(by=AppiumBy.XPATH, value=xpath).click()"
   ]
  },
  {
   "cell_type": "code",
   "execution_count": 262,
   "id": "d33308af",
   "metadata": {},
   "outputs": [],
   "source": [
    "xpath = '/hierarchy/android.widget.FrameLayout/android.widget.LinearLayout/android.widget.FrameLayout/android.widget.LinearLayout/android.widget.FrameLayout/android.widget.FrameLayout[5]/android.widget.FrameLayout/android.widget.RelativeLayout/android.widget.LinearLayout/android.widget.LinearLayout/android.widget.LinearLayout/android.widget.RelativeLayout/android.widget.HorizontalScrollView/android.widget.LinearLayout/android.widget.FrameLayout[2]'\n",
    "element = driver.find_element(by=AppiumBy.XPATH, value=xpath).click()"
   ]
  },
  {
   "cell_type": "code",
   "execution_count": 265,
   "id": "e8da6a5b",
   "metadata": {},
   "outputs": [],
   "source": [
    "xpath = '/hierarchy/android.widget.FrameLayout/android.widget.LinearLayout/android.widget.FrameLayout/android.widget.LinearLayout/android.widget.FrameLayout/android.widget.FrameLayout[5]/android.widget.FrameLayout/android.widget.RelativeLayout/android.widget.RelativeLayout/android.widget.RelativeLayout/android.widget.FrameLayout/android.view.ViewGroup/android.view.ViewGroup/android.view.ViewGroup/android.view.ViewGroup[4]/android.view.ViewGroup[5]'\n",
    "element = driver.find_element(by=AppiumBy.XPATH, value=xpath).click()"
   ]
  },
  {
   "cell_type": "code",
   "execution_count": 231,
   "id": "a3d6bc05",
   "metadata": {
    "scrolled": false
   },
   "outputs": [
    {
     "ename": "NoSuchElementException",
     "evalue": "Message: An element could not be located on the page using the given search parameters.\nStacktrace:\nNoSuchElementError: An element could not be located on the page using the given search parameters.\n    at AndroidUiautomator2Driver.findElOrEls (C:\\Users\\xudon\\AppData\\Local\\Programs\\Appium Server GUI\\resources\\app\\node_modules\\appium\\node_modules\\appium-android-driver\\lib\\commands\\find.js:75:11)\n    at runMicrotasks (<anonymous>)\n    at processTicksAndRejections (internal/process/task_queues.js:97:5)\n    at AndroidUiautomator2Driver.findElOrElsWithProcessing (C:\\Users\\xudon\\AppData\\Local\\Programs\\Appium Server GUI\\resources\\app\\node_modules\\appium\\node_modules\\appium-base-driver\\lib\\basedriver\\commands\\find.js:33:12)\n    at AndroidUiautomator2Driver.findElement (C:\\Users\\xudon\\AppData\\Local\\Programs\\Appium Server GUI\\resources\\app\\node_modules\\appium\\node_modules\\appium-base-driver\\lib\\basedriver\\commands\\find.js:53:10)",
     "output_type": "error",
     "traceback": [
      "\u001b[1;31m---------------------------------------------------------------------------\u001b[0m",
      "\u001b[1;31mNoSuchElementException\u001b[0m                    Traceback (most recent call last)",
      "\u001b[1;32m<ipython-input-231-c7af44a91ef7>\u001b[0m in \u001b[0;36m<module>\u001b[1;34m\u001b[0m\n\u001b[0;32m      1\u001b[0m \u001b[0mxpath\u001b[0m \u001b[1;33m=\u001b[0m \u001b[1;34m\"//android.view.View[@text='全选经济']\"\u001b[0m\u001b[1;33m\u001b[0m\u001b[1;33m\u001b[0m\u001b[0m\n\u001b[1;32m----> 2\u001b[1;33m \u001b[0melement\u001b[0m \u001b[1;33m=\u001b[0m \u001b[0mdriver\u001b[0m\u001b[1;33m.\u001b[0m\u001b[0mfind_element\u001b[0m\u001b[1;33m(\u001b[0m\u001b[0mby\u001b[0m\u001b[1;33m=\u001b[0m\u001b[0mAppiumBy\u001b[0m\u001b[1;33m.\u001b[0m\u001b[0mXPATH\u001b[0m\u001b[1;33m,\u001b[0m \u001b[0mvalue\u001b[0m\u001b[1;33m=\u001b[0m\u001b[0mxpath\u001b[0m\u001b[1;33m)\u001b[0m\u001b[1;33m.\u001b[0m\u001b[0mclick\u001b[0m\u001b[1;33m(\u001b[0m\u001b[1;33m)\u001b[0m\u001b[1;33m\u001b[0m\u001b[1;33m\u001b[0m\u001b[0m\n\u001b[0m",
      "\u001b[1;32mc:\\vnstudio\\lib\\site-packages\\appium\\webdriver\\webdriver.py\u001b[0m in \u001b[0;36mfind_element\u001b[1;34m(self, by, value)\u001b[0m\n\u001b[0;32m    381\u001b[0m         \u001b[1;31m#     value = '[name=\"%s\"]' % value\u001b[0m\u001b[1;33m\u001b[0m\u001b[1;33m\u001b[0m\u001b[1;33m\u001b[0m\u001b[0m\n\u001b[0;32m    382\u001b[0m \u001b[1;33m\u001b[0m\u001b[0m\n\u001b[1;32m--> 383\u001b[1;33m         \u001b[1;32mreturn\u001b[0m \u001b[0mself\u001b[0m\u001b[1;33m.\u001b[0m\u001b[0mexecute\u001b[0m\u001b[1;33m(\u001b[0m\u001b[0mRemoteCommand\u001b[0m\u001b[1;33m.\u001b[0m\u001b[0mFIND_ELEMENT\u001b[0m\u001b[1;33m,\u001b[0m \u001b[1;33m{\u001b[0m\u001b[1;34m'using'\u001b[0m\u001b[1;33m:\u001b[0m \u001b[0mby\u001b[0m\u001b[1;33m,\u001b[0m \u001b[1;34m'value'\u001b[0m\u001b[1;33m:\u001b[0m \u001b[0mvalue\u001b[0m\u001b[1;33m}\u001b[0m\u001b[1;33m)\u001b[0m\u001b[1;33m[\u001b[0m\u001b[1;34m'value'\u001b[0m\u001b[1;33m]\u001b[0m\u001b[1;33m\u001b[0m\u001b[1;33m\u001b[0m\u001b[0m\n\u001b[0m\u001b[0;32m    384\u001b[0m \u001b[1;33m\u001b[0m\u001b[0m\n\u001b[0;32m    385\u001b[0m     def find_elements(\n",
      "\u001b[1;32mc:\\vnstudio\\lib\\site-packages\\selenium\\webdriver\\remote\\webdriver.py\u001b[0m in \u001b[0;36mexecute\u001b[1;34m(self, driver_command, params)\u001b[0m\n\u001b[0;32m    438\u001b[0m         \u001b[0mresponse\u001b[0m \u001b[1;33m=\u001b[0m \u001b[0mself\u001b[0m\u001b[1;33m.\u001b[0m\u001b[0mcommand_executor\u001b[0m\u001b[1;33m.\u001b[0m\u001b[0mexecute\u001b[0m\u001b[1;33m(\u001b[0m\u001b[0mdriver_command\u001b[0m\u001b[1;33m,\u001b[0m \u001b[0mparams\u001b[0m\u001b[1;33m)\u001b[0m\u001b[1;33m\u001b[0m\u001b[1;33m\u001b[0m\u001b[0m\n\u001b[0;32m    439\u001b[0m         \u001b[1;32mif\u001b[0m \u001b[0mresponse\u001b[0m\u001b[1;33m:\u001b[0m\u001b[1;33m\u001b[0m\u001b[1;33m\u001b[0m\u001b[0m\n\u001b[1;32m--> 440\u001b[1;33m             \u001b[0mself\u001b[0m\u001b[1;33m.\u001b[0m\u001b[0merror_handler\u001b[0m\u001b[1;33m.\u001b[0m\u001b[0mcheck_response\u001b[0m\u001b[1;33m(\u001b[0m\u001b[0mresponse\u001b[0m\u001b[1;33m)\u001b[0m\u001b[1;33m\u001b[0m\u001b[1;33m\u001b[0m\u001b[0m\n\u001b[0m\u001b[0;32m    441\u001b[0m             \u001b[0mresponse\u001b[0m\u001b[1;33m[\u001b[0m\u001b[1;34m\"value\"\u001b[0m\u001b[1;33m]\u001b[0m \u001b[1;33m=\u001b[0m \u001b[0mself\u001b[0m\u001b[1;33m.\u001b[0m\u001b[0m_unwrap_value\u001b[0m\u001b[1;33m(\u001b[0m\u001b[0mresponse\u001b[0m\u001b[1;33m.\u001b[0m\u001b[0mget\u001b[0m\u001b[1;33m(\u001b[0m\u001b[1;34m\"value\"\u001b[0m\u001b[1;33m,\u001b[0m \u001b[1;32mNone\u001b[0m\u001b[1;33m)\u001b[0m\u001b[1;33m)\u001b[0m\u001b[1;33m\u001b[0m\u001b[1;33m\u001b[0m\u001b[0m\n\u001b[0;32m    442\u001b[0m             \u001b[1;32mreturn\u001b[0m \u001b[0mresponse\u001b[0m\u001b[1;33m\u001b[0m\u001b[1;33m\u001b[0m\u001b[0m\n",
      "\u001b[1;32mc:\\vnstudio\\lib\\site-packages\\appium\\webdriver\\errorhandler.py\u001b[0m in \u001b[0;36mcheck_response\u001b[1;34m(self, response)\u001b[0m\n\u001b[0;32m     28\u001b[0m             \u001b[1;32mif\u001b[0m \u001b[0mwde\u001b[0m\u001b[1;33m.\u001b[0m\u001b[0mmsg\u001b[0m \u001b[1;33m==\u001b[0m \u001b[1;34m'No such context found.'\u001b[0m\u001b[1;33m:\u001b[0m\u001b[1;33m\u001b[0m\u001b[1;33m\u001b[0m\u001b[0m\n\u001b[0;32m     29\u001b[0m                 \u001b[1;32mraise\u001b[0m \u001b[0mNoSuchContextException\u001b[0m\u001b[1;33m(\u001b[0m\u001b[0mwde\u001b[0m\u001b[1;33m.\u001b[0m\u001b[0mmsg\u001b[0m\u001b[1;33m,\u001b[0m \u001b[0mwde\u001b[0m\u001b[1;33m.\u001b[0m\u001b[0mscreen\u001b[0m\u001b[1;33m,\u001b[0m \u001b[0mwde\u001b[0m\u001b[1;33m.\u001b[0m\u001b[0mstacktrace\u001b[0m\u001b[1;33m)\u001b[0m \u001b[1;32mfrom\u001b[0m \u001b[0mwde\u001b[0m\u001b[1;33m\u001b[0m\u001b[1;33m\u001b[0m\u001b[0m\n\u001b[1;32m---> 30\u001b[1;33m             \u001b[1;32mraise\u001b[0m \u001b[0mwde\u001b[0m\u001b[1;33m\u001b[0m\u001b[1;33m\u001b[0m\u001b[0m\n\u001b[0m",
      "\u001b[1;32mc:\\vnstudio\\lib\\site-packages\\appium\\webdriver\\errorhandler.py\u001b[0m in \u001b[0;36mcheck_response\u001b[1;34m(self, response)\u001b[0m\n\u001b[0;32m     24\u001b[0m     \u001b[1;32mdef\u001b[0m \u001b[0mcheck_response\u001b[0m\u001b[1;33m(\u001b[0m\u001b[0mself\u001b[0m\u001b[1;33m,\u001b[0m \u001b[0mresponse\u001b[0m\u001b[1;33m:\u001b[0m \u001b[0mDict\u001b[0m\u001b[1;33m)\u001b[0m \u001b[1;33m->\u001b[0m \u001b[1;32mNone\u001b[0m\u001b[1;33m:\u001b[0m\u001b[1;33m\u001b[0m\u001b[1;33m\u001b[0m\u001b[0m\n\u001b[0;32m     25\u001b[0m         \u001b[1;32mtry\u001b[0m\u001b[1;33m:\u001b[0m\u001b[1;33m\u001b[0m\u001b[1;33m\u001b[0m\u001b[0m\n\u001b[1;32m---> 26\u001b[1;33m             \u001b[0msuper\u001b[0m\u001b[1;33m(\u001b[0m\u001b[1;33m)\u001b[0m\u001b[1;33m.\u001b[0m\u001b[0mcheck_response\u001b[0m\u001b[1;33m(\u001b[0m\u001b[0mresponse\u001b[0m\u001b[1;33m)\u001b[0m\u001b[1;33m\u001b[0m\u001b[1;33m\u001b[0m\u001b[0m\n\u001b[0m\u001b[0;32m     27\u001b[0m         \u001b[1;32mexcept\u001b[0m \u001b[0mWebDriverException\u001b[0m \u001b[1;32mas\u001b[0m \u001b[0mwde\u001b[0m\u001b[1;33m:\u001b[0m\u001b[1;33m\u001b[0m\u001b[1;33m\u001b[0m\u001b[0m\n\u001b[0;32m     28\u001b[0m             \u001b[1;32mif\u001b[0m \u001b[0mwde\u001b[0m\u001b[1;33m.\u001b[0m\u001b[0mmsg\u001b[0m \u001b[1;33m==\u001b[0m \u001b[1;34m'No such context found.'\u001b[0m\u001b[1;33m:\u001b[0m\u001b[1;33m\u001b[0m\u001b[1;33m\u001b[0m\u001b[0m\n",
      "\u001b[1;32mc:\\vnstudio\\lib\\site-packages\\selenium\\webdriver\\remote\\errorhandler.py\u001b[0m in \u001b[0;36mcheck_response\u001b[1;34m(self, response)\u001b[0m\n\u001b[0;32m    243\u001b[0m                 \u001b[0malert_text\u001b[0m \u001b[1;33m=\u001b[0m \u001b[0mvalue\u001b[0m\u001b[1;33m[\u001b[0m\u001b[1;34m\"alert\"\u001b[0m\u001b[1;33m]\u001b[0m\u001b[1;33m.\u001b[0m\u001b[0mget\u001b[0m\u001b[1;33m(\u001b[0m\u001b[1;34m\"text\"\u001b[0m\u001b[1;33m)\u001b[0m\u001b[1;33m\u001b[0m\u001b[1;33m\u001b[0m\u001b[0m\n\u001b[0;32m    244\u001b[0m             \u001b[1;32mraise\u001b[0m \u001b[0mexception_class\u001b[0m\u001b[1;33m(\u001b[0m\u001b[0mmessage\u001b[0m\u001b[1;33m,\u001b[0m \u001b[0mscreen\u001b[0m\u001b[1;33m,\u001b[0m \u001b[0mstacktrace\u001b[0m\u001b[1;33m,\u001b[0m \u001b[0malert_text\u001b[0m\u001b[1;33m)\u001b[0m  \u001b[1;31m# type: ignore[call-arg]  # mypy is not smart enough here\u001b[0m\u001b[1;33m\u001b[0m\u001b[1;33m\u001b[0m\u001b[0m\n\u001b[1;32m--> 245\u001b[1;33m         \u001b[1;32mraise\u001b[0m \u001b[0mexception_class\u001b[0m\u001b[1;33m(\u001b[0m\u001b[0mmessage\u001b[0m\u001b[1;33m,\u001b[0m \u001b[0mscreen\u001b[0m\u001b[1;33m,\u001b[0m \u001b[0mstacktrace\u001b[0m\u001b[1;33m)\u001b[0m\u001b[1;33m\u001b[0m\u001b[1;33m\u001b[0m\u001b[0m\n\u001b[0m",
      "\u001b[1;31mNoSuchElementException\u001b[0m: Message: An element could not be located on the page using the given search parameters.\nStacktrace:\nNoSuchElementError: An element could not be located on the page using the given search parameters.\n    at AndroidUiautomator2Driver.findElOrEls (C:\\Users\\xudon\\AppData\\Local\\Programs\\Appium Server GUI\\resources\\app\\node_modules\\appium\\node_modules\\appium-android-driver\\lib\\commands\\find.js:75:11)\n    at runMicrotasks (<anonymous>)\n    at processTicksAndRejections (internal/process/task_queues.js:97:5)\n    at AndroidUiautomator2Driver.findElOrElsWithProcessing (C:\\Users\\xudon\\AppData\\Local\\Programs\\Appium Server GUI\\resources\\app\\node_modules\\appium\\node_modules\\appium-base-driver\\lib\\basedriver\\commands\\find.js:33:12)\n    at AndroidUiautomator2Driver.findElement (C:\\Users\\xudon\\AppData\\Local\\Programs\\Appium Server GUI\\resources\\app\\node_modules\\appium\\node_modules\\appium-base-driver\\lib\\basedriver\\commands\\find.js:53:10)"
     ]
    }
   ],
   "source": [
    "xpath = \"//android.view.View[@text='全选经济']\"\n",
    "element = driver.find_element(by=AppiumBy.XPATH, value=xpath).click()"
   ]
  },
  {
   "cell_type": "code",
   "execution_count": 236,
   "id": "06f20140",
   "metadata": {},
   "outputs": [],
   "source": [
    "num = 4\n",
    "xpath = '/hierarchy/android.widget.FrameLayout/android.widget.LinearLayout/android.widget.FrameLayout/android.widget.LinearLayout/android.widget.FrameLayout/android.widget.FrameLayout[5]/android.widget.FrameLayout/android.widget.RelativeLayout/android.widget.RelativeLayout/android.widget.RelativeLayout/android.widget.FrameLayout/android.view.ViewGroup/android.view.ViewGroup/android.view.ViewGroup/android.view.ViewGroup[4]/android.view.ViewGroup[3]/android.view.ViewGroup[2]/android.view.ViewGroup[3]/android.view.ViewGroup/android.view.ViewGroup/android.view.ViewGroup[3]/android.view.ViewGroup/android.view.ViewGroup/android.widget.LinearLayout/android.support.v7.widget.RecyclerView/android.view.ViewGroup[2]/android.view.ViewGroup/android.view.ViewGroup/android.view.ViewGroup[2]/android.view.ViewGroup[2]/android.view.ViewGroup[1]/android.widget.ImageView'.format(num)\n",
    "element = driver.find_element(by=AppiumBy.XPATH, value=xpath).click()"
   ]
  },
  {
   "cell_type": "code",
   "execution_count": 267,
   "id": "2552ccfe",
   "metadata": {},
   "outputs": [],
   "source": [
    "elements = driver.find_elements(by=AppiumBy.CLASS_NAME, value='android.widget.TextView')\n",
    "elements[-1].click()"
   ]
  },
  {
   "cell_type": "code",
   "execution_count": 272,
   "id": "99015d1e",
   "metadata": {},
   "outputs": [
    {
     "data": {
      "text/plain": [
       "{'00000000-0000-0023-0000-007c00000ed6': '普通时段(4.0公里,13分钟)',\n",
       " '00000000-0000-0023-0000-007d00000ed6': '18.00元',\n",
       " '00000000-0000-0023-0000-008000000ed6': '00:00-06:00(4.0公里,13分钟)',\n",
       " '00000000-0000-0023-0000-008100000ed6': '20.00元',\n",
       " '00000000-0000-0023-0000-008400000ed6': '07:00-10:00(4.0公里,13分钟)',\n",
       " '00000000-0000-0023-0000-008500000ed6': '21.00元',\n",
       " '00000000-0000-0023-0000-008800000ed6': '17:00-19:00(4.0公里,13分钟)',\n",
       " '00000000-0000-0023-0000-008900000ed6': '19.00元',\n",
       " '00000000-0000-0023-0000-008c00000ed6': '21:00-23:00(4.0公里,13分钟)',\n",
       " '00000000-0000-0023-0000-008d00000ed6': '19.50元',\n",
       " '00000000-0000-0023-0000-009000000ed6': '23:00-23:59(4.0公里,13分钟)',\n",
       " '00000000-0000-0023-0000-009100000ed6': '20.00元',\n",
       " '00000000-0000-0023-0000-009c00000ed6': '普通时段',\n",
       " '00000000-0000-0023-0000-009d00000ed6': '2.12元/公里',\n",
       " '00000000-0000-0023-0000-00a000000ed6': '00:00-06:00',\n",
       " '00000000-0000-0023-0000-00a100000ed6': '2.69元/公里',\n",
       " '00000000-0000-0023-0000-00a400000ed6': '07:00-10:00',\n",
       " '00000000-0000-0023-0000-00a500000ed6': '2.85元/公里',\n",
       " '00000000-0000-0023-0000-00a800000ed6': '17:00-19:00',\n",
       " '00000000-0000-0023-0000-00a900000ed6': '2.99元/公里',\n",
       " '00000000-0000-0023-0000-00ac00000ed6': '21:00-23:00',\n",
       " '00000000-0000-0023-0000-00ad00000ed6': '2.84元/公里',\n",
       " '00000000-0000-0023-0000-00b000000ed6': '23:00-23:59',\n",
       " '00000000-0000-0023-0000-00b100000ed6': '2.99元/公里',\n",
       " '00000000-0000-0023-0000-00bc00000ed6': '普通时段',\n",
       " '00000000-0000-0023-0000-00bd00000ed6': '0.37元/分钟',\n",
       " '00000000-0000-0023-0000-00c000000ed6': '00:00-06:00',\n",
       " '00000000-0000-0023-0000-00c100000ed6': '0.54元/分钟',\n",
       " '00000000-0000-0023-0000-00c400000ed6': '07:00-10:00',\n",
       " '00000000-0000-0023-0000-00c500000ed6': '0.57元/分钟',\n",
       " '00000000-0000-0023-0000-00c800000ed6': '17:00-19:00',\n",
       " '00000000-0000-0023-0000-00c900000ed6': '0.59元/分钟',\n",
       " '00000000-0000-0023-0000-00cc00000ed6': '21:00-23:00',\n",
       " '00000000-0000-0023-0000-00cd00000ed6': '0.43元/分钟',\n",
       " '00000000-0000-0023-0000-00d000000ed6': '23:00-23:59',\n",
       " '00000000-0000-0023-0000-00d100000ed6': '0.59元/分钟',\n",
       " '00000000-0000-0023-0000-00d900000ed6': '超过20.0公里-35.0公里，额外收取',\n",
       " '00000000-0000-0023-0000-00da00000ed6': '0.20元/公里',\n",
       " '00000000-0000-0023-0000-00dd00000ed6': '超过35.0公里-50.0公里，额外收取',\n",
       " '00000000-0000-0023-0000-00de00000ed6': '0.73元/公里',\n",
       " '00000000-0000-0023-0000-00e100000ed6': '超过50.0公里，额外收取',\n",
       " '00000000-0000-0023-0000-00e200000ed6': '1.33元/公里',\n",
       " '00000000-0000-0023-0000-00e700000ed6': '当处于高峰时段，周围司机较少，或司机距离乘客较远时，为鼓励司机更快接单，平台会对订单进行适当加价。加价系数最高为1.5倍，加价金额上限为39元',\n",
       " '00000000-0000-0023-0000-00f400000ed6': '普通时段(5.0公里,10分钟)',\n",
       " '00000000-0000-0023-0000-00f500000ed6': '38.00元',\n",
       " '00000000-0000-0023-0000-010000000ed6': '普通时段',\n",
       " '00000000-0000-0023-0000-010100000ed6': '2.20元/公里',\n",
       " '00000000-0000-0023-0000-010400000ed6': '00:00-06:00',\n",
       " '00000000-0000-0023-0000-010500000ed6': '2.80元/公里',\n",
       " '00000000-0000-0023-0000-010800000ed6': '07:00-09:00',\n",
       " '00000000-0000-0023-0000-010900000ed6': '2.80元/公里',\n",
       " '00000000-0000-0023-0000-010c00000ed6': '10:00-17:00',\n",
       " '00000000-0000-0023-0000-010d00000ed6': '1.80元/公里',\n",
       " '00000000-0000-0023-0000-011000000ed6': '17:00-19:30',\n",
       " '00000000-0000-0023-0000-011100000ed6': '2.50元/公里',\n",
       " '00000000-0000-0023-0000-011400000ed6': '22:00-23:59',\n",
       " '00000000-0000-0023-0000-011500000ed6': '2.80元/公里',\n",
       " '00000000-0000-0023-0000-011e00000ed6': '普通时段',\n",
       " '00000000-0000-0023-0000-011f00000ed6': '0.40元/分钟',\n",
       " '00000000-0000-0023-0000-012200000ed6': '00:00-06:00',\n",
       " '00000000-0000-0023-0000-012300000ed6': '0.60元/分钟',\n",
       " '00000000-0000-0023-0000-012600000ed6': '10:00-17:00',\n",
       " '00000000-0000-0023-0000-012700000ed6': '0.40元/分钟',\n",
       " '00000000-0000-0023-0000-012a00000ed6': '22:00-23:59',\n",
       " '00000000-0000-0023-0000-012b00000ed6': '0.60元/分钟',\n",
       " '00000000-0000-0023-0000-013500000ed6': '超过10.0公里-20.0公里，额外收取',\n",
       " '00000000-0000-0023-0000-013600000ed6': '0.30元/公里',\n",
       " '00000000-0000-0023-0000-013900000ed6': '超过20.0公里-30.0公里，额外收取',\n",
       " '00000000-0000-0023-0000-013a00000ed6': '0.30元/公里',\n",
       " '00000000-0000-0023-0000-013d00000ed6': '超过30.0公里-40.0公里，额外收取',\n",
       " '00000000-0000-0023-0000-013e00000ed6': '0.50元/公里',\n",
       " '00000000-0000-0023-0000-014100000ed6': '超过40.0公里-50.0公里，额外收取',\n",
       " '00000000-0000-0023-0000-014200000ed6': '1.20元/公里',\n",
       " '00000000-0000-0023-0000-014500000ed6': '超过50.0公里，额外收取',\n",
       " '00000000-0000-0023-0000-014600000ed6': '1.50元/公里'}"
      ]
     },
     "execution_count": 272,
     "metadata": {},
     "output_type": "execute_result"
    }
   ],
   "source": [
    "def scroll_down(driver):\n",
    "    screenSize = driver.get_window_size()\n",
    "    screenW = screenSize['width']\n",
    "    screenH = screenSize['height']\n",
    "\n",
    "    x = screenW/2\n",
    "    y1 = int(screenH*0.8)\n",
    "    y2 = int(screenH*0.4)\n",
    "    avlst = []\n",
    "    driver.swipe(start_x=x, start_y=y1, end_x=x, end_y=y2, duration=800)\n",
    "\n",
    "\n",
    "text_collection = {}\n",
    "old_dict = None\n",
    "\n",
    "while old_dict != text_collection:\n",
    "    old_dict = text_collection.copy()\n",
    "    \n",
    "    elements = driver.find_elements(by=AppiumBy.CLASS_NAME, value='android.widget.TextView')\n",
    "    for element in elements:\n",
    "        if element.id not in text_collection.keys():\n",
    "            text_collection[element.id] = element.text\n",
    "\n",
    "    scroll_down(driver)\n",
    "text_collection"
   ]
  },
  {
   "cell_type": "code",
   "execution_count": 269,
   "id": "ddc871c9",
   "metadata": {},
   "outputs": [
    {
     "data": {
      "text/plain": [
       "['普通时段(4.0公里,13分钟)',\n",
       " '18.00元',\n",
       " '00:00-06:00(4.0公里,13分钟)',\n",
       " '20.00元',\n",
       " '07:00-10:00(4.0公里,13分钟)',\n",
       " '21.00元',\n",
       " '17:00-19:00(4.0公里,13分钟)',\n",
       " '19.00元',\n",
       " '21:00-23:00(4.0公里,13分钟)',\n",
       " '19.50元',\n",
       " '23:00-23:59(4.0公里,13分钟)',\n",
       " '20.00元',\n",
       " '普通时段',\n",
       " '2.12元/公里',\n",
       " '00:00-06:00',\n",
       " '2.69元/公里',\n",
       " '07:00-10:00',\n",
       " '2.85元/公里',\n",
       " '17:00-19:00',\n",
       " '2.99元/公里',\n",
       " '21:00-23:00',\n",
       " '2.84元/公里',\n",
       " '23:00-23:59',\n",
       " '2.99元/公里',\n",
       " '普通时段',\n",
       " '0.37元/分钟',\n",
       " '00:00-06:00',\n",
       " '0.54元/分钟',\n",
       " '07:00-10:00',\n",
       " '0.57元/分钟',\n",
       " '17:00-19:00',\n",
       " '0.59元/分钟',\n",
       " '21:00-23:00',\n",
       " '0.43元/分钟',\n",
       " '23:00-23:59',\n",
       " '0.59元/分钟',\n",
       " '超过20.0公里-35.0公里，额外收取',\n",
       " '0.20元/公里',\n",
       " '超过35.0公里-50.0公里，额外收取',\n",
       " '0.73元/公里',\n",
       " '超过50.0公里，额外收取',\n",
       " '1.33元/公里',\n",
       " '普通时段(5.0公里,10分钟)',\n",
       " '38.00元',\n",
       " '普通时段',\n",
       " '2.20元/公里',\n",
       " '00:00-06:00',\n",
       " '2.80元/公里',\n",
       " '07:00-09:00',\n",
       " '2.80元/公里',\n",
       " '10:00-17:00',\n",
       " '1.80元/公里',\n",
       " '17:00-19:30',\n",
       " '2.50元/公里',\n",
       " '22:00-23:59',\n",
       " '2.80元/公里',\n",
       " '普通时段',\n",
       " '0.40元/分钟',\n",
       " '00:00-06:00',\n",
       " '0.60元/分钟',\n",
       " '10:00-17:00',\n",
       " '0.40元/分钟',\n",
       " '22:00-23:59',\n",
       " '0.60元/分钟',\n",
       " '超过10.0公里-20.0公里，额外收取',\n",
       " '0.30元/公里',\n",
       " '超过20.0公里-30.0公里，额外收取',\n",
       " '0.30元/公里',\n",
       " '超过30.0公里-40.0公里，额外收取',\n",
       " '0.50元/公里',\n",
       " '超过40.0公里-50.0公里，额外收取',\n",
       " '1.20元/公里',\n",
       " '超过50.0公里，额外收取',\n",
       " '1.50元/公里']"
      ]
     },
     "execution_count": 269,
     "metadata": {},
     "output_type": "execute_result"
    }
   ],
   "source": [
    "info = text_collection.values()\n",
    "info_list = list(filter(lambda x: (x[0].isnumeric() or '普通时段' in x or '额外收取' in x), info))\n",
    "info_list"
   ]
  },
  {
   "cell_type": "code",
   "execution_count": 273,
   "id": "d344179c",
   "metadata": {},
   "outputs": [],
   "source": [
    "def scroll_up(driver):\n",
    "    screenSize = driver.get_window_size()\n",
    "    screenW = screenSize['width']\n",
    "    screenH = screenSize['height']\n",
    "\n",
    "    x = screenW/2\n",
    "    y1 = int(screenH*0.8)\n",
    "    y2 = int(screenH*0.4)\n",
    "    avlst = []\n",
    "    driver.swipe(start_x=x, start_y=y2, end_x=x, end_y=y1, duration=800)"
   ]
  },
  {
   "cell_type": "code",
   "execution_count": 274,
   "id": "6ef9b789",
   "metadata": {},
   "outputs": [],
   "source": [
    "xpath = '//android.view.View[@text=\"休息日\"]'\n",
    "flag = 1\n",
    "while flag:\n",
    "    try: \n",
    "        element = driver.find_element(by=AppiumBy.XPATH, value=xpath).click()\n",
    "        flag = 0\n",
    "    except:\n",
    "        scroll_up(driver)"
   ]
  },
  {
   "cell_type": "code",
   "execution_count": 275,
   "id": "911a3f8e",
   "metadata": {},
   "outputs": [
    {
     "data": {
      "text/plain": [
       "{'00000000-0000-0023-0000-007c00000ed6': '普通时段(4.0公里,13分钟)',\n",
       " '00000000-0000-0023-0000-007d00000ed6': '18.00元',\n",
       " '00000000-0000-0023-0000-008000000ed6': '00:00-06:00(4.0公里,13分钟)',\n",
       " '00000000-0000-0023-0000-008100000ed6': '20.00元',\n",
       " '00000000-0000-0023-0000-014800000ed6': '11:00-15:00(4.0公里,13分钟)',\n",
       " '00000000-0000-0023-0000-014900000ed6': '18.00元',\n",
       " '00000000-0000-0023-0000-008800000ed6': '17:00-19:00(4.0公里,13分钟)',\n",
       " '00000000-0000-0023-0000-008900000ed6': '19.00元',\n",
       " '00000000-0000-0023-0000-014a00000ed6': '20:30-23:00(4.0公里,13分钟)',\n",
       " '00000000-0000-0023-0000-014b00000ed6': '19.00元',\n",
       " '00000000-0000-0023-0000-009000000ed6': '23:00-23:59(4.0公里,13分钟)',\n",
       " '00000000-0000-0023-0000-009100000ed6': '20.00元',\n",
       " '00000000-0000-0023-0000-009c00000ed6': '普通时段',\n",
       " '00000000-0000-0023-0000-014c00000ed6': '1.99元/公里',\n",
       " '00000000-0000-0023-0000-00a000000ed6': '00:00-06:00',\n",
       " '00000000-0000-0023-0000-014d00000ed6': '2.82元/公里',\n",
       " '00000000-0000-0023-0000-014e00000ed6': '11:00-15:00',\n",
       " '00000000-0000-0023-0000-014f00000ed6': '2.17元/公里',\n",
       " '00000000-0000-0023-0000-00a800000ed6': '17:00-19:00',\n",
       " '00000000-0000-0023-0000-015000000ed6': '2.57元/公里',\n",
       " '00000000-0000-0023-0000-015100000ed6': '20:30-23:00',\n",
       " '00000000-0000-0023-0000-015200000ed6': '2.48元/公里',\n",
       " '00000000-0000-0023-0000-00b000000ed6': '23:00-23:59',\n",
       " '00000000-0000-0023-0000-015300000ed6': '2.55元/公里',\n",
       " '00000000-0000-0023-0000-00bc00000ed6': '普通时段',\n",
       " '00000000-0000-0023-0000-015400000ed6': '0.45元/分钟',\n",
       " '00000000-0000-0023-0000-00c000000ed6': '00:00-06:00',\n",
       " '00000000-0000-0023-0000-015500000ed6': '0.51元/分钟',\n",
       " '00000000-0000-0023-0000-015600000ed6': '11:00-15:00',\n",
       " '00000000-0000-0023-0000-015700000ed6': '0.42元/分钟',\n",
       " '00000000-0000-0023-0000-00c800000ed6': '17:00-19:00',\n",
       " '00000000-0000-0023-0000-015800000ed6': '0.47元/分钟',\n",
       " '00000000-0000-0023-0000-015900000ed6': '20:30-23:00',\n",
       " '00000000-0000-0023-0000-015a00000ed6': '0.46元/分钟',\n",
       " '00000000-0000-0023-0000-00d000000ed6': '23:00-23:59',\n",
       " '00000000-0000-0023-0000-015b00000ed6': '0.64元/分钟',\n",
       " '00000000-0000-0023-0000-00d900000ed6': '超过20.0公里-35.0公里，额外收取',\n",
       " '00000000-0000-0023-0000-015c00000ed6': '0.63元/公里',\n",
       " '00000000-0000-0023-0000-00dd00000ed6': '超过35.0公里-50.0公里，额外收取',\n",
       " '00000000-0000-0023-0000-015d00000ed6': '0.85元/公里',\n",
       " '00000000-0000-0023-0000-00e100000ed6': '超过50.0公里，额外收取',\n",
       " '00000000-0000-0023-0000-015e00000ed6': '1.58元/公里',\n",
       " '00000000-0000-0023-0000-00e700000ed6': '当处于高峰时段，周围司机较少，或司机距离乘客较远时，为鼓励司机更快接单，平台会对订单进行适当加价。加价系数最高为1.5倍，加价金额上限为39元',\n",
       " '00000000-0000-0023-0000-00f400000ed6': '普通时段(5.0公里,10分钟)',\n",
       " '00000000-0000-0023-0000-00f500000ed6': '38.00元',\n",
       " '00000000-0000-0023-0000-010000000ed6': '普通时段',\n",
       " '00000000-0000-0023-0000-015f00000ed6': '2.00元/公里',\n",
       " '00000000-0000-0023-0000-010400000ed6': '00:00-06:00',\n",
       " '00000000-0000-0023-0000-016000000ed6': '2.30元/公里',\n",
       " '00000000-0000-0023-0000-016100000ed6': '09:00-17:00',\n",
       " '00000000-0000-0023-0000-016200000ed6': '1.80元/公里',\n",
       " '00000000-0000-0023-0000-016300000ed6': '21:00-23:59',\n",
       " '00000000-0000-0023-0000-016400000ed6': '2.30元/公里',\n",
       " '00000000-0000-0023-0000-011e00000ed6': '普通时段',\n",
       " '00000000-0000-0023-0000-016600000ed6': '0.50元/分钟',\n",
       " '00000000-0000-0023-0000-012200000ed6': '00:00-06:00',\n",
       " '00000000-0000-0023-0000-016700000ed6': '0.50元/分钟',\n",
       " '00000000-0000-0023-0000-016800000ed6': '09:00-17:00',\n",
       " '00000000-0000-0023-0000-012700000ed6': '0.40元/分钟',\n",
       " '00000000-0000-0023-0000-016900000ed6': '17:00-20:00',\n",
       " '00000000-0000-0023-0000-016a00000ed6': '0.50元/分钟',\n",
       " '00000000-0000-0023-0000-016d00000ed6': '22:00-23:59',\n",
       " '00000000-0000-0023-0000-016e00000ed6': '0.50元/分钟',\n",
       " '00000000-0000-0023-0000-013500000ed6': '超过10.0公里-20.0公里，额外收取',\n",
       " '00000000-0000-0023-0000-016f00000ed6': '0.20元/公里',\n",
       " '00000000-0000-0023-0000-013900000ed6': '超过20.0公里-30.0公里，额外收取',\n",
       " '00000000-0000-0023-0000-017000000ed6': '0.80元/公里',\n",
       " '00000000-0000-0023-0000-013d00000ed6': '超过30.0公里-40.0公里，额外收取',\n",
       " '00000000-0000-0023-0000-017100000ed6': '1.40元/公里',\n",
       " '00000000-0000-0023-0000-014100000ed6': '超过40.0公里-50.0公里，额外收取',\n",
       " '00000000-0000-0023-0000-017200000ed6': '1.45元/公里',\n",
       " '00000000-0000-0023-0000-014500000ed6': '超过50.0公里，额外收取',\n",
       " '00000000-0000-0023-0000-017300000ed6': '2.50元/公里'}"
      ]
     },
     "execution_count": 275,
     "metadata": {},
     "output_type": "execute_result"
    }
   ],
   "source": [
    "text_collection = {}\n",
    "old_dict = None\n",
    "\n",
    "while old_dict != text_collection:\n",
    "    old_dict = text_collection.copy()\n",
    "    \n",
    "    elements = driver.find_elements(by=AppiumBy.CLASS_NAME, value='android.widget.TextView')\n",
    "    for element in elements:\n",
    "        if element.id not in text_collection.keys():\n",
    "            text_collection[element.id] = element.text\n",
    "\n",
    "    scroll_down(driver)\n",
    "\n",
    "text_collection"
   ]
  },
  {
   "cell_type": "code",
   "execution_count": 276,
   "id": "6374ad79",
   "metadata": {},
   "outputs": [
    {
     "data": {
      "text/plain": [
       "['普通时段(4.0公里,13分钟)',\n",
       " '18.00元',\n",
       " '00:00-06:00(4.0公里,13分钟)',\n",
       " '20.00元',\n",
       " '11:00-15:00(4.0公里,13分钟)',\n",
       " '18.00元',\n",
       " '17:00-19:00(4.0公里,13分钟)',\n",
       " '19.00元',\n",
       " '20:30-23:00(4.0公里,13分钟)',\n",
       " '19.00元',\n",
       " '23:00-23:59(4.0公里,13分钟)',\n",
       " '20.00元',\n",
       " '普通时段',\n",
       " '1.99元/公里',\n",
       " '00:00-06:00',\n",
       " '2.82元/公里',\n",
       " '11:00-15:00',\n",
       " '2.17元/公里',\n",
       " '17:00-19:00',\n",
       " '2.57元/公里',\n",
       " '20:30-23:00',\n",
       " '2.48元/公里',\n",
       " '23:00-23:59',\n",
       " '2.55元/公里',\n",
       " '普通时段',\n",
       " '0.45元/分钟',\n",
       " '00:00-06:00',\n",
       " '0.51元/分钟',\n",
       " '11:00-15:00',\n",
       " '0.42元/分钟',\n",
       " '17:00-19:00',\n",
       " '0.47元/分钟',\n",
       " '20:30-23:00',\n",
       " '0.46元/分钟',\n",
       " '23:00-23:59',\n",
       " '0.64元/分钟',\n",
       " '超过20.0公里-35.0公里，额外收取',\n",
       " '0.63元/公里',\n",
       " '超过35.0公里-50.0公里，额外收取',\n",
       " '0.85元/公里',\n",
       " '超过50.0公里，额外收取',\n",
       " '1.58元/公里',\n",
       " '普通时段(5.0公里,10分钟)',\n",
       " '38.00元',\n",
       " '普通时段',\n",
       " '2.00元/公里',\n",
       " '00:00-06:00',\n",
       " '2.30元/公里',\n",
       " '09:00-17:00',\n",
       " '1.80元/公里',\n",
       " '21:00-23:59',\n",
       " '2.30元/公里',\n",
       " '普通时段',\n",
       " '0.50元/分钟',\n",
       " '00:00-06:00',\n",
       " '0.50元/分钟',\n",
       " '09:00-17:00',\n",
       " '0.40元/分钟',\n",
       " '17:00-20:00',\n",
       " '0.50元/分钟',\n",
       " '22:00-23:59',\n",
       " '0.50元/分钟',\n",
       " '超过10.0公里-20.0公里，额外收取',\n",
       " '0.20元/公里',\n",
       " '超过20.0公里-30.0公里，额外收取',\n",
       " '0.80元/公里',\n",
       " '超过30.0公里-40.0公里，额外收取',\n",
       " '1.40元/公里',\n",
       " '超过40.0公里-50.0公里，额外收取',\n",
       " '1.45元/公里',\n",
       " '超过50.0公里，额外收取',\n",
       " '2.50元/公里']"
      ]
     },
     "execution_count": 276,
     "metadata": {},
     "output_type": "execute_result"
    }
   ],
   "source": [
    "info = text_collection.values()\n",
    "info_list = list(filter(lambda x: (x[0].isnumeric() or '普通时段' in x or '额外收取' in x), info))\n",
    "info_list"
   ]
  },
  {
   "cell_type": "code",
   "execution_count": 278,
   "id": "7ab69586",
   "metadata": {},
   "outputs": [],
   "source": [
    "xpath = '/hierarchy/android.widget.FrameLayout/android.widget.LinearLayout/android.widget.FrameLayout/android.widget.LinearLayout/android.widget.FrameLayout/android.widget.FrameLayout[5]/android.widget.FrameLayout/android.widget.RelativeLayout/android.widget.RelativeLayout/android.widget.FrameLayout/com.uc.webview.export.WebView/android.webkit.WebView/android.webkit.WebView/android.view.View/android.view.View[1]/android.view.View/android.view.View[1]/android.widget.Image'\n",
    "element = driver.find_element(by=AppiumBy.XPATH, value=xpath).click()"
   ]
  }
 ],
 "metadata": {
  "kernelspec": {
   "display_name": "Python 3",
   "language": "python",
   "name": "python3"
  },
  "language_info": {
   "codemirror_mode": {
    "name": "ipython",
    "version": 3
   },
   "file_extension": ".py",
   "mimetype": "text/x-python",
   "name": "python",
   "nbconvert_exporter": "python",
   "pygments_lexer": "ipython3",
   "version": "3.8.5"
  }
 },
 "nbformat": 4,
 "nbformat_minor": 5
}
